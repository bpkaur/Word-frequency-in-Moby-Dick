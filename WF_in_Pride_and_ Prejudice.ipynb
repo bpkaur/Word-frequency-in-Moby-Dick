{
 "cells": [
  {
   "cell_type": "code",
   "execution_count": 2,
   "metadata": {
    "collapsed": true
   },
   "outputs": [],
   "source": [
    "# Importing requests, BeautifulSoup and nltk\n",
    "import requests\n",
    "from bs4 import BeautifulSoup\n",
    "import nltk"
   ]
  },
  {
   "cell_type": "code",
   "execution_count": 3,
   "metadata": {},
   "outputs": [
    {
     "name": "stdout",
     "output_type": "stream",
     "text": [
      "﻿<?xml version=\"1.0\" encoding=\"utf-8\"?>\r\n",
      "\r\n",
      "<!DOCTYPE html\r\n",
      "   PUBLIC \"-//W3C//DTD XHTML 1.0 Strict//EN\"\r\n",
      "   \"http://www.w3.org/TR/xhtml1/DTD/xhtml1-strict.dtd\" >\r\n",
      "\r\n",
      "<html xmlns=\"http://www.w3.org/1999/xhtml\" lang=\"en\">\r\n",
      "  <head>\r\n",
      "    <title>\r\n",
      "      Pride and Prejudice, by Jane Austen\r\n",
      "    </title>\r\n",
      "    <style type=\"text/css\" xml:space=\"preserve\">\r\n",
      "\r\n",
      "    body { margin:5%;  background:#faebd0; text-align:justify}\r\n",
      "    P { text-indent: 1em; margin-top: .25em; margin-bottom: .25em; }\r\n",
      "    H1,H2,H3,H4,H5,H6 { text-align: center; margin-left: 15%; margin-right: 15%; }\r\n",
      "    hr  { width: 50%; text-align: center;}\r\n",
      "    .foot { margin-left: 20%; margin-right: 20%; text-align: justify; text-indent: -3em; font-size: 90%; }\r\n",
      "    blockquote {font-size: 97%; font-style: italic; margin-left: 10%; margin-right: 10%;}\r\n",
      "    .mynote    {background-color: #DDE; color: #000; padding: .5em; margin-left: 10%; margin-right: 10%; font-family: sans-serif; font-size: 95%;}\r\n",
      "    .toc       { margin-left: 10%; margin-bottom: .75em;}\r\n",
      "    .toc2      { margin-left: 20%;}\r\n",
      "    div.fig { display:block; margin:0 auto; text-align:center; }\r\n",
      "    .figleft   {float: left; margin-left: 0%; margin-right: 1%;}\r\n",
      "    .figright  {float: right; margin-right: 0%; margin-left: 1%;}\r\n",
      "    pre     { font-style: italic; font-size: 90%; margin-left: 10%;}\r\n",
      "\r\n",
      "</style>\r\n",
      "  </head>\r\n",
      "  <body>\r\n",
      "<pre xml:space=\"preserve\">\r\n",
      "\r\n",
      "The Project Gutenberg EBook of Pride and Prejudice, by Jane Austen\r\n",
      "\r\n",
      "This eBook is for the use of anyone anywhere at no cost and with\r\n",
      "almost no restrictions whatsoever.  You may copy it, give it away or\r\n",
      "re-use it under the terms of the Project Gutenberg License included\r\n",
      "with this eBook or online at www.gutenberg.org\r\n",
      "\r\n",
      "\r\n",
      "Title: Pride and Prejudice\r\n",
      "\r\n",
      "Author: Jane Austen\r\n",
      "\r\n",
      "Release Date: August 26, 2008 [EBook #1342]\r\n",
      "Last Updated: March 10, 2018\r\n",
      "\r\n",
      "\r\n",
      "Language: English\r\n",
      "\r\n",
      "Character set encoding: UTF-8\r\n",
      "\r\n",
      "*** START OF THIS PROJECT GUTENBERG EBOOK PRIDE AND PREJUDICE ***\r\n",
      "\r\n",
      "\r\n",
      "\r\n",
      "\r\n",
      "Produced by Anonymous V\n"
     ]
    }
   ],
   "source": [
    "# Getting the Moby Dick HTML \n",
    "r = requests.get('https://www.gutenberg.org/files/1342/1342-h/1342-h.htm')\n",
    "\n",
    "# Setting the correct text encoding of the HTML page\n",
    "r.encoding = 'utf-8'\n",
    "\n",
    "# Extracting the HTML from the request object\n",
    "html = r.text\n",
    "\n",
    "# Printing the first 2000 characters in html\n",
    "print(html[:2000])"
   ]
  },
  {
   "cell_type": "code",
   "execution_count": 4,
   "metadata": {},
   "outputs": [
    {
     "name": "stdout",
     "output_type": "stream",
     "text": [
      " to the last question: 'Oh! the eldest Miss Bennet,\r\n",
      "      beyond a doubt; there cannot be two opinions on that point.'”\r\n",
      "     \n",
      "\r\n",
      "      “Upon my word! Well, that is very decided indeed—that does seem as\r\n",
      "      if—but, however, it may all come to nothing, you know.”\r\n",
      "     \n",
      "\r\n",
      "      “My overhearings were more to the purpose than yours,\r\n",
      "      Eliza,” said Charlotte. “Mr. Darcy is not so well worth listening to as\r\n",
      "      his friend, is he?—poor Eliza!—to be only just tolerable.”\r\n",
      "     \n",
      "\r\n",
      "      “I beg you would not put it into Lizzy's head to be vexed by his\r\n",
      "      ill-treatment, for he is such a disagreeable man, that it would be quite a\r\n",
      "      misfortune to be liked by him. Mrs. Long told me last night that he sat\r\n",
      "      close to her for half-an-hour without once opening his lips.”\r\n",
      "     \n",
      "\r\n",
      "      “Are you quite sure, ma'am?—is not there a little mistake?” said\r\n",
      "      Jane. “I certainly saw Mr. Darcy speaking to her.”\r\n",
      "     \n",
      "\r\n",
      "      “Aye—because she asked him at last how he liked Netherfield, and he\r\n",
      "      could not help answering her; but she said he seemed quite angry at being\r\n",
      "      spoke to.”\r\n",
      "     \n",
      "\r\n",
      "      “Miss Bingley told me,” said Jane, “that he never speaks much, unless\r\n",
      "      among his intimate acquaintances. With them he is remarkably\r\n",
      "      agreeable.”\r\n",
      "     \n",
      "\r\n",
      "      “I do not believe a word of it, my dear. If he had been so very agreeable,\r\n",
      "      he would have talked to Mrs. Long. But I can guess how it was; everybody\r\n",
      "      says that he is eat up with pride, and I dare say he had heard somehow\r\n",
      "      that Mrs. Long does not keep a carriage, and had come to the ball in a\r\n",
      "      hack chaise.”\r\n",
      "     \n",
      "\r\n",
      "      “I do not mind his not talking to Mrs. Long,” said Miss Lucas, “but I wish\r\n",
      "      he had danced with Eliza.”\r\n",
      "     \n",
      "\r\n",
      "      “Another time, Lizzy,” said her mother, “I would not dance with him,\r\n",
      "      if I were you.”\r\n",
      "     \n",
      "\r\n",
      "      “I believe, ma'am, I may safely promise you never to dance with\r\n",
      "      him.”\r\n",
      "     \n",
      "\r\n",
      "      “His pride,” said Miss Lucas, “does not offend me so much as pride\r\n",
      "      often does, because there is an excuse for it. One cannot wonder that so\r\n",
      "      very fine a young man, with family, fortune, everything in his favour,\r\n",
      "      should think highly of himself. If I may so express it, he has a right\r\n",
      "      to be proud.”\r\n",
      "     \n",
      "\r\n",
      "      “That is very true,” replied Elizabeth, “and I could easily forgive his\r\n",
      "      pride, if he had not mortified mine.”\r\n",
      "     \n",
      "\r\n",
      "      “Pride,” observed Mary, who piqued herself upon the solidity of her\r\n",
      "      reflections, “is a very common failing, I believe. By all that I have ever\r\n",
      "      read, I am convinced that it is very common indeed; that human nature is\r\n",
      "      particularly prone to it, and that there are very few of us who do not\r\n",
      "      cherish a feeling of self-complacency on the score of some quality or\r\n",
      "      other, real or imaginary. Vanity and pride are different things, though\r\n",
      "      the words are often used synonymously. A person may be proud without being\r\n",
      "      vain. Pride relates more to our opinion of ourselves, vanity to what we\r\n",
      "      would have others think of us.”\r\n",
      "     \n",
      "\r\n",
      "      “If I were as rich as Mr. Darcy,” cried a young Lucas, who came with his\r\n",
      "      sisters, “I should not care how proud I was. I would keep a pack of\r\n",
      "      foxhounds, and drink a bottle of wine a day.”\r\n",
      "     \n",
      "\r\n",
      "      “Then you would drink a great deal more than you ought,” said Mrs. Bennet;\r\n",
      "      “and if I were to see you at it, I should take away your bottle directly.”\r\n",
      "     \n",
      "\r\n",
      "      The boy protested that she should not; she continued to declare that she\r\n",
      "      would, and the argument ended only with the visit.\r\n",
      "    \n",
      "\n",
      "\n",
      " \n",
      "\n",
      "\n",
      "\n",
      "\n",
      "\r\n",
      "      Chapter 6\r\n",
      "    \n",
      "\r\n",
      "      The ladies of Longbourn soon waited on those of Netherfield. The visit was\r\n",
      "      soon returned in due form.\n"
     ]
    }
   ],
   "source": [
    "# Creating a BeautifulSoup object from the HTML\n",
    "soup = BeautifulSoup(html, 'html.parser')\n",
    "\n",
    "# Getting the text out of the soup\n",
    "text = soup.get_text()\n",
    "\n",
    "# Printing out text between characters 32730 and 36520\n",
    "print(text[32730:36520])"
   ]
  },
  {
   "cell_type": "code",
   "execution_count": 5,
   "metadata": {},
   "outputs": [
    {
     "name": "stdout",
     "output_type": "stream",
     "text": [
      "['Pride', 'and', 'Prejudice', 'by', 'Jane', 'Austen', 'body', 'margin', '5', 'background']\n"
     ]
    }
   ],
   "source": [
    "# Creating a tokenizer\n",
    "tokenizer = nltk.tokenize.RegexpTokenizer('\\w+')\n",
    "\n",
    "# Tokenizing the text\n",
    "tokens = tokenizer.tokenize(text)\n",
    "\n",
    "# Printing out the first 10 words / tokens \n",
    "print(tokens[:10])"
   ]
  },
  {
   "cell_type": "code",
   "execution_count": 6,
   "metadata": {},
   "outputs": [
    {
     "name": "stdout",
     "output_type": "stream",
     "text": [
      "['pride', 'and', 'prejudice', 'by', 'jane', 'austen', 'body', 'margin', '5', 'background']\n"
     ]
    }
   ],
   "source": [
    "# A new list to hold the lowercased words\n",
    "words = []\n",
    "\n",
    "# Looping through the tokens and make them lower case\n",
    "for word in tokens:\n",
    "    words.append(word.lower())\n",
    "\n",
    "# Printing out the first 10 words / tokens \n",
    "print(words[:10])"
   ]
  },
  {
   "cell_type": "code",
   "execution_count": 8,
   "metadata": {},
   "outputs": [
    {
     "name": "stdout",
     "output_type": "stream",
     "text": [
      "['i', 'me', 'my', 'myself', 'we', 'our', 'ours', 'ourselves', 'you', \"you're\"]\n",
      "['i', 'me', 'my', 'myself', 'we', 'our', 'ours', 'ourselves', 'you', \"you're\", \"you've\", \"you'll\", \"you'd\", 'your', 'yours', 'yourself', 'yourselves', 'he', 'him', 'his', 'himself', 'she', \"she's\", 'her', 'hers', 'herself', 'it', \"it's\", 'its', 'itself', 'they', 'them', 'their', 'theirs', 'themselves', 'what', 'which', 'who', 'whom', 'this', 'that', \"that'll\", 'these', 'those', 'am', 'is', 'are', 'was', 'were', 'be', 'been', 'being', 'have', 'has', 'had', 'having', 'do', 'does', 'did', 'doing', 'a', 'an', 'the', 'and', 'but', 'if', 'or', 'because', 'as', 'until', 'while', 'of', 'at', 'by', 'for', 'with', 'about', 'against', 'between', 'into', 'through', 'during', 'before', 'after', 'above', 'below', 'to', 'from', 'up', 'down', 'in', 'out', 'on', 'off', 'over', 'under', 'again', 'further', 'then', 'once', 'here', 'there', 'when', 'where', 'why', 'how', 'all', 'any', 'both', 'each', 'few', 'more', 'most', 'other', 'some', 'such', 'no', 'nor', 'not', 'only', 'own', 'same', 'so', 'than', 'too', 'very', 's', 't', 'can', 'will', 'just', 'don', \"don't\", 'should', \"should've\", 'now', 'd', 'll', 'm', 'o', 're', 've', 'y', 'ain', 'aren', \"aren't\", 'couldn', \"couldn't\", 'didn', \"didn't\", 'doesn', \"doesn't\", 'hadn', \"hadn't\", 'hasn', \"hasn't\", 'haven', \"haven't\", 'isn', \"isn't\", 'ma', 'mightn', \"mightn't\", 'mustn', \"mustn't\", 'needn', \"needn't\", 'shan', \"shan't\", 'shouldn', \"shouldn't\", 'wasn', \"wasn't\", 'weren', \"weren't\", 'won', \"won't\", 'wouldn', \"wouldn't\"]\n"
     ]
    }
   ],
   "source": [
    "#nltk.download('stopwords')\n",
    "# Getting the English stop words from nltk\n",
    "sw = nltk.corpus.stopwords.words('english')\n",
    "\n",
    "# Printing out first 10 the stop words\n",
    "print(sw[:10])\n",
    "# Printing out the all the stop words\n",
    "print(sw)"
   ]
  },
  {
   "cell_type": "code",
   "execution_count": 9,
   "metadata": {},
   "outputs": [
    {
     "name": "stdout",
     "output_type": "stream",
     "text": [
      "['pride', 'prejudice', 'jane', 'austen', 'body', 'margin', '5', 'background', 'faebd0', 'text']\n"
     ]
    }
   ],
   "source": [
    "# A new list to hold Moby Dick with No Stop words\n",
    "words_ns = []\n",
    "\n",
    "# Appending to words_ns all words that are in words but not in sw\n",
    "for word in words:\n",
    "    if word not in sw:\n",
    "        words_ns.append(word)\n",
    "\n",
    "# Printing the first 10 words_ns to check that stop words are gone\n",
    "print(words_ns[:10])"
   ]
  },
  {
   "cell_type": "code",
   "execution_count": 10,
   "metadata": {},
   "outputs": [
    {
     "data": {
      "image/png": "[encoded data removed]",
      "text/plain": [
       "<matplotlib.figure.Figure at 0x1a153b3358>"
      ]
     },
     "metadata": {},
     "output_type": "display_data"
    }
   ],
   "source": [
    "# This command display figures inline\n",
    "%matplotlib inline\n",
    "\n",
    "# Creating the word frequency distribution\n",
    "freqdist = nltk.FreqDist(words_ns)\n",
    "\n",
    "# Plotting the word frequency distribution\n",
    "freqdist.plot(30)"
   ]
  },
  {
   "cell_type": "code",
   "execution_count": null,
   "metadata": {
    "collapsed": true
   },
   "outputs": [],
   "source": []
  }
 ],
 "metadata": {
  "kernelspec": {
   "display_name": "Python 3",
   "language": "python",
   "name": "python3"
  },
  "language_info": {
   "codemirror_mode": {
    "name": "ipython",
    "version": 3
   },
   "file_extension": ".py",
   "mimetype": "text/x-python",
   "name": "python",
   "nbconvert_exporter": "python",
   "pygments_lexer": "ipython3",
   "version": "3.6.2"
  }
 },
 "nbformat": 4,
 "nbformat_minor": 2
}
